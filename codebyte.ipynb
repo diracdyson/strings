{
  "nbformat": 4,
  "nbformat_minor": 0,
  "metadata": {
    "colab": {
      "provenance": []
    },
    "kernelspec": {
      "name": "python3",
      "display_name": "Python 3"
    },
    "language_info": {
      "name": "python"
    }
  },
  "cells": [
    {
      "cell_type": "code",
      "execution_count": null,
      "metadata": {
        "id": "ISo3ehm0NeZZ"
      },
      "outputs": [],
      "source": [
        "def splitstr(stre):\n",
        "    max_str=\"\"\n",
        "    for string in stre:\n",
        "        if string.isalpha() or string.isnumeric():\n",
        "            max_str+=string \n",
        "        else:\n",
        "            max_str=\" \"\n",
        "    return max(string.split(),key=len)"
      ]
    },
    {
      "cell_type": "code",
      "source": [
        "splitstr(\"spongeb3burger\")"
      ],
      "metadata": {
        "colab": {
          "base_uri": "https://localhost:8080/",
          "height": 58
        },
        "id": "0IjhBkXUOFWB",
        "outputId": "6c13f716-3c4a-49f4-cce2-08709fe2575e"
      },
      "execution_count": null,
      "outputs": [
        {
          "output_type": "execute_result",
          "data": {
            "text/plain": [
              "'r'"
            ],
            "application/vnd.google.colaboratory.intrinsic+json": {
              "type": "string"
            }
          },
          "metadata": {},
          "execution_count": 16
        }
      ]
    },
    {
      "cell_type": "code",
      "source": [
        "def splitstre(stre):\n",
        "    max_str=' '\n",
        "    for i in range(0,len(stre)):\n",
        "        if stre[i].isalpha()==True or stre[i].isnumeric()==True:\n",
        "            max_str+=stre[i]\n",
        "        else:\n",
        "            max_str+=' '\n",
        "    return max(max_str.split(),key=len)"
      ],
      "metadata": {
        "id": "kyNeQhbDOP6k"
      },
      "execution_count": null,
      "outputs": []
    },
    {
      "cell_type": "code",
      "source": [
        "splitstre(\"spongebob##$ 56 burger\")"
      ],
      "metadata": {
        "colab": {
          "base_uri": "https://localhost:8080/",
          "height": 58
        },
        "id": "xTdYLoteQzU0",
        "outputId": "aa10c0d7-371d-410a-ebed-b11dc9ef2d3e"
      },
      "execution_count": null,
      "outputs": [
        {
          "output_type": "execute_result",
          "data": {
            "text/plain": [
              "'spongebob'"
            ],
            "application/vnd.google.colaboratory.intrinsic+json": {
              "type": "string"
            }
          },
          "metadata": {},
          "execution_count": 15
        }
      ]
    },
    {
      "cell_type": "code",
      "source": [
        "def TreeConstructor(strArr):\n",
        "    parentList=[]\n",
        "    for node in strArr:\n",
        "        child,parent=eval(node)\n",
        "        parentList.append(parent)\n",
        "        if parentList.count(parent) > 2:\n",
        "            return \"false\"\n",
        "    return \"true\"\n",
        "    "
      ],
      "metadata": {
        "id": "86MJQEdEQ0eP"
      },
      "execution_count": null,
      "outputs": []
    }
  ]
}